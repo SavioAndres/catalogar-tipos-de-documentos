{
  "nbformat": 4,
  "nbformat_minor": 0,
  "metadata": {
    "colab": {
      "name": "Categorizando tipos nos arquivos.ipynb",
      "provenance": [],
      "collapsed_sections": [],
      "authorship_tag": "ABX9TyMhLZ07eK9oNt6k5G0g5rrI",
      "include_colab_link": true
    },
    "kernelspec": {
      "name": "python3",
      "display_name": "Python 3"
    },
    "language_info": {
      "name": "python"
    }
  },
  "cells": [
    {
      "cell_type": "markdown",
      "metadata": {
        "id": "view-in-github",
        "colab_type": "text"
      },
      "source": [
        "<a href=\"https://colab.research.google.com/github/SavioAndres/catalogar-tipos-de-documentos/blob/master/Categorizando_tipos_nos_arquivos.ipynb\" target=\"_parent\"><img src=\"https://colab.research.google.com/assets/colab-badge.svg\" alt=\"Open In Colab\"/></a>"
      ]
    },
    {
      "cell_type": "code",
      "metadata": {
        "id": "Ho7Vf1myDo49"
      },
      "source": [
        "import pandas as pd"
      ],
      "execution_count": 212,
      "outputs": []
    },
    {
      "cell_type": "code",
      "metadata": {
        "id": "hCEJBQWnD8H4"
      },
      "source": [
        "df = pd.read_csv('/content/resultado2.csv', encoding='utf8', sep=';')"
      ],
      "execution_count": 213,
      "outputs": []
    },
    {
      "cell_type": "code",
      "metadata": {
        "colab": {
          "base_uri": "https://localhost:8080/"
        },
        "id": "7r5G8SVdHi09",
        "outputId": "0045230e-8bbd-4c93-cfa0-e0bfa8296774"
      },
      "source": [
        "df.rename(columns={' caminho': 'caminho', ' nome': 'nome', ' score': 'score'}, inplace=True)\n",
        "df.count()"
      ],
      "execution_count": 214,
      "outputs": [
        {
          "output_type": "execute_result",
          "data": {
            "text/plain": [
              "tipo       250\n",
              "score      250\n",
              "caminho    250\n",
              "nome       250\n",
              "dtype: int64"
            ]
          },
          "metadata": {
            "tags": []
          },
          "execution_count": 214
        }
      ]
    },
    {
      "cell_type": "code",
      "metadata": {
        "colab": {
          "base_uri": "https://localhost:8080/",
          "height": 198
        },
        "id": "7j9AQ5IaGsFC",
        "outputId": "27aaeb0f-94cc-4ce5-fd1b-7d0373a66e16"
      },
      "source": [
        "df.head()"
      ],
      "execution_count": 215,
      "outputs": [
        {
          "output_type": "execute_result",
          "data": {
            "text/html": [
              "<div>\n",
              "<style scoped>\n",
              "    .dataframe tbody tr th:only-of-type {\n",
              "        vertical-align: middle;\n",
              "    }\n",
              "\n",
              "    .dataframe tbody tr th {\n",
              "        vertical-align: top;\n",
              "    }\n",
              "\n",
              "    .dataframe thead th {\n",
              "        text-align: right;\n",
              "    }\n",
              "</style>\n",
              "<table border=\"1\" class=\"dataframe\">\n",
              "  <thead>\n",
              "    <tr style=\"text-align: right;\">\n",
              "      <th></th>\n",
              "      <th>tipo</th>\n",
              "      <th>score</th>\n",
              "      <th>caminho</th>\n",
              "      <th>nome</th>\n",
              "    </tr>\n",
              "  </thead>\n",
              "  <tbody>\n",
              "    <tr>\n",
              "      <th>0</th>\n",
              "      <td>ABONO DE PERMANENCIA</td>\n",
              "      <td>1.000000</td>\n",
              "      <td>C:\\Users\\savio\\Desktop\\Base Exploratoria\\cicr...</td>\n",
              "      <td>Abono de Permanência0002.jpg</td>\n",
              "    </tr>\n",
              "    <tr>\n",
              "      <th>1</th>\n",
              "      <td>ABONO DE PERMANENCIA</td>\n",
              "      <td>0.918919</td>\n",
              "      <td>C:\\Users\\savio\\Desktop\\Base Exploratoria\\cicr...</td>\n",
              "      <td>Abono Permanência0001.jpg</td>\n",
              "    </tr>\n",
              "    <tr>\n",
              "      <th>2</th>\n",
              "      <td>ABONO DE PERMANENCIA</td>\n",
              "      <td>0.918919</td>\n",
              "      <td>C:\\Users\\savio\\Desktop\\Base Exploratoria\\cicr...</td>\n",
              "      <td>Abono Permanência0006.jpg</td>\n",
              "    </tr>\n",
              "    <tr>\n",
              "      <th>3</th>\n",
              "      <td>ABONO DE PERMANENCIA</td>\n",
              "      <td>0.918919</td>\n",
              "      <td>C:\\Users\\savio\\Desktop\\Base Exploratoria\\cicr...</td>\n",
              "      <td>Abono Permanência0007.jpg</td>\n",
              "    </tr>\n",
              "    <tr>\n",
              "      <th>4</th>\n",
              "      <td>ABONO DE PERMANENCIA</td>\n",
              "      <td>0.918919</td>\n",
              "      <td>C:\\Users\\savio\\Desktop\\Base Exploratoria\\cicr...</td>\n",
              "      <td>Abono Permanência0008.jpg</td>\n",
              "    </tr>\n",
              "  </tbody>\n",
              "</table>\n",
              "</div>"
            ],
            "text/plain": [
              "                   tipo  ...                           nome\n",
              "0  ABONO DE PERMANENCIA  ...   Abono de Permanência0002.jpg\n",
              "1  ABONO DE PERMANENCIA  ...      Abono Permanência0001.jpg\n",
              "2  ABONO DE PERMANENCIA  ...      Abono Permanência0006.jpg\n",
              "3  ABONO DE PERMANENCIA  ...      Abono Permanência0007.jpg\n",
              "4  ABONO DE PERMANENCIA  ...      Abono Permanência0008.jpg\n",
              "\n",
              "[5 rows x 4 columns]"
            ]
          },
          "metadata": {
            "tags": []
          },
          "execution_count": 215
        }
      ]
    },
    {
      "cell_type": "code",
      "metadata": {
        "colab": {
          "base_uri": "https://localhost:8080/"
        },
        "id": "EzAIr-CEXSWA",
        "outputId": "a124fa7e-9611-414c-daae-e7633e4b4559"
      },
      "source": [
        "# Deletando linhas que tem o tipo None\n",
        "df.drop(df.loc[df['tipo'] == 'None'].index, inplace=True)\n",
        "df.count()"
      ],
      "execution_count": 216,
      "outputs": [
        {
          "output_type": "execute_result",
          "data": {
            "text/plain": [
              "tipo       198\n",
              "score      198\n",
              "caminho    198\n",
              "nome       198\n",
              "dtype: int64"
            ]
          },
          "metadata": {
            "tags": []
          },
          "execution_count": 216
        }
      ]
    },
    {
      "cell_type": "code",
      "metadata": {
        "colab": {
          "base_uri": "https://localhost:8080/",
          "height": 198
        },
        "id": "eFpnn312EaBm",
        "outputId": "f31f45be-ce98-43fd-8d3a-5042d0af8e0c"
      },
      "source": [
        "# Agrupando o dataframe por caminho / assim tem como saber que os tipos pertencem a um único documento\n",
        "caminho_tipos = df.groupby('caminho')['tipo'].apply(list).reset_index(name='tipos')\n",
        "caminho_tipos.head()"
      ],
      "execution_count": 217,
      "outputs": [
        {
          "output_type": "execute_result",
          "data": {
            "text/html": [
              "<div>\n",
              "<style scoped>\n",
              "    .dataframe tbody tr th:only-of-type {\n",
              "        vertical-align: middle;\n",
              "    }\n",
              "\n",
              "    .dataframe tbody tr th {\n",
              "        vertical-align: top;\n",
              "    }\n",
              "\n",
              "    .dataframe thead th {\n",
              "        text-align: right;\n",
              "    }\n",
              "</style>\n",
              "<table border=\"1\" class=\"dataframe\">\n",
              "  <thead>\n",
              "    <tr style=\"text-align: right;\">\n",
              "      <th></th>\n",
              "      <th>caminho</th>\n",
              "      <th>tipos</th>\n",
              "    </tr>\n",
              "  </thead>\n",
              "  <tbody>\n",
              "    <tr>\n",
              "      <th>0</th>\n",
              "      <td>C:\\Users\\savio\\Desktop\\Base Exploratoria\\cicr...</td>\n",
              "      <td>[ABONO DE PERMANENCIA, ABONO DE PERMANENCIA, A...</td>\n",
              "    </tr>\n",
              "    <tr>\n",
              "      <th>1</th>\n",
              "      <td>C:\\Users\\savio\\Desktop\\Base Exploratoria\\cicr...</td>\n",
              "      <td>[AVERBACAO DE TEMPO DE SERVICO, AVERBACAO DE T...</td>\n",
              "    </tr>\n",
              "    <tr>\n",
              "      <th>2</th>\n",
              "      <td>C:\\Users\\savio\\Desktop\\Base Exploratoria\\cicr...</td>\n",
              "      <td>[CONCESSAO DE LICENCA-PREMIO, CONCESSAO DE LIC...</td>\n",
              "    </tr>\n",
              "    <tr>\n",
              "      <th>3</th>\n",
              "      <td>C:\\Users\\savio\\Desktop\\Base Exploratoria\\cicr...</td>\n",
              "      <td>[FERIAS, FERIAS]</td>\n",
              "    </tr>\n",
              "    <tr>\n",
              "      <th>4</th>\n",
              "      <td>C:\\Users\\savio\\Desktop\\Base Exploratoria\\cicr...</td>\n",
              "      <td>[FERIAS, FERIAS, FERIAS, FERIAS, FERIAS]</td>\n",
              "    </tr>\n",
              "  </tbody>\n",
              "</table>\n",
              "</div>"
            ],
            "text/plain": [
              "                                             caminho                                              tipos\n",
              "0   C:\\Users\\savio\\Desktop\\Base Exploratoria\\cicr...  [ABONO DE PERMANENCIA, ABONO DE PERMANENCIA, A...\n",
              "1   C:\\Users\\savio\\Desktop\\Base Exploratoria\\cicr...  [AVERBACAO DE TEMPO DE SERVICO, AVERBACAO DE T...\n",
              "2   C:\\Users\\savio\\Desktop\\Base Exploratoria\\cicr...  [CONCESSAO DE LICENCA-PREMIO, CONCESSAO DE LIC...\n",
              "3   C:\\Users\\savio\\Desktop\\Base Exploratoria\\cicr...                                   [FERIAS, FERIAS]\n",
              "4   C:\\Users\\savio\\Desktop\\Base Exploratoria\\cicr...           [FERIAS, FERIAS, FERIAS, FERIAS, FERIAS]"
            ]
          },
          "metadata": {
            "tags": []
          },
          "execution_count": 217
        }
      ]
    },
    {
      "cell_type": "code",
      "metadata": {
        "colab": {
          "base_uri": "https://localhost:8080/"
        },
        "id": "mCaBJNfLaR34",
        "outputId": "e2857377-2ed4-4d56-fe75-207dc91838f5"
      },
      "source": [
        "# Unindo tipos iguais de mesmo documento e salvando na lista list_unic\n",
        "list_unic = list()\n",
        "tipos = list(caminho_tipos['tipos'])\n",
        "for tipo in tipos:\n",
        "  list_unic.append(list(dict.fromkeys(tipo)))\n",
        "list_unic"
      ],
      "execution_count": 218,
      "outputs": [
        {
          "output_type": "execute_result",
          "data": {
            "text/plain": [
              "[['ABONO DE PERMANENCIA'],\n",
              " ['AVERBACAO DE TEMPO DE SERVICO'],\n",
              " ['CONCESSAO DE LICENCA-PREMIO', 'PORTARIA CONCESSAO DE LICENCA-PREMIO'],\n",
              " ['FERIAS'],\n",
              " ['FERIAS'],\n",
              " ['FERIAS'],\n",
              " ['GOZO DE LICENCA-PREMIO'],\n",
              " ['LICENCA MEDICA', 'PORTARIA CUMPRIMENTO'],\n",
              " ['LICENCA MEDICA'],\n",
              " ['OUTROS'],\n",
              " ['OUTROS'],\n",
              " ['FERIAS'],\n",
              " ['ABONO DE PERMANENCIA'],\n",
              " ['AVERBACAO DE TEMPO DE SERVICO'],\n",
              " ['CONCESSAO DE LICENCA-PREMIO', 'PORTARIA CONCESSAO DE LICENCA-PREMIO'],\n",
              " ['FERIAS'],\n",
              " ['FERIAS'],\n",
              " ['FERIAS'],\n",
              " ['GOZO DE LICENCA-PREMIO'],\n",
              " ['LICENCA MEDICA', 'PORTARIA CUMPRIMENTO'],\n",
              " ['LICENCA MEDICA'],\n",
              " ['OUTROS'],\n",
              " ['OUTROS'],\n",
              " ['FERIAS']]"
            ]
          },
          "metadata": {
            "tags": []
          },
          "execution_count": 218
        }
      ]
    },
    {
      "cell_type": "code",
      "metadata": {
        "colab": {
          "base_uri": "https://localhost:8080/"
        },
        "id": "wYYeAI2ER0Ld",
        "outputId": "a8cff58a-d599-4feb-b912-6c20c3c8c9ee"
      },
      "source": [
        "# Contando a quantidade de documentos e tipos por documento\n",
        "count_type = 0\n",
        "count_doc = 0\n",
        "for tipo in tipos:\n",
        "  for _tipo in list(dict.fromkeys(tipo)):\n",
        "    count_type = count_type + 1\n",
        "  count_doc = count_doc + 1\n",
        "print('Existe', count_doc, 'documentos com', count_type, 'tipos')"
      ],
      "execution_count": 219,
      "outputs": [
        {
          "output_type": "stream",
          "text": [
            "Existe 24 documentos com 28 tipos\n"
          ],
          "name": "stdout"
        }
      ]
    },
    {
      "cell_type": "markdown",
      "metadata": {
        "id": "XxTeCdWwbrYa"
      },
      "source": [
        "### Contar quantos documentos de cada tipo"
      ]
    },
    {
      "cell_type": "code",
      "metadata": {
        "id": "fkd7SQrbbqxU"
      },
      "source": [
        "# Unindo todos os tipos em uma unica lista\n",
        "list_docs_types = list()\n",
        "for lu in list_unic:\n",
        "  for lu2 in lu:\n",
        "    list_docs_types.append(lu2)"
      ],
      "execution_count": 220,
      "outputs": []
    },
    {
      "cell_type": "code",
      "metadata": {
        "id": "CEj9r_UJcjxF"
      },
      "source": [
        "TYPES = [\n",
        "    \"ABONO DE FALTAS\",\n",
        "    \"ABONO DE PERMANENCIA\",\n",
        "    \"AFASTAMENTO DO CARGO\",\n",
        "    \"AFASTAMENTO PARA CONCORRER AO PLEITO ELEITORAL\",\n",
        "    \"AFASTAMENTO PARA MANDATO SINDICAL\",\n",
        "    \"AFASTAMENTO SEM JUSTIFICATIVA\",\n",
        "    \"APOSENTADORIA\",\n",
        "    \"APOSENTADORIA POR INVALIDEZ\",\n",
        "    \"AVERBACAO DE TEMPO DE SERVICO\",\n",
        "    \"CONCESSAO DE FINATE\",\n",
        "    \"CONCESSAO DE LICENCA-PREMIO\",\n",
        "    \"DIARIAS\",\n",
        "    \"FERIAS\",\n",
        "    \"GOZO DE LICENCA-PREMIO\",\n",
        "    \"INDENIZACAO DE LICENCA-PREMIO\",\n",
        "    \"INDENIZACAO DE FERIAS E 13º SALARIO\",\n",
        "    \"INDENIZACAO OUTRAS\",\n",
        "    \"LICENCA ADOCAO\",\n",
        "    \"LICENCA PARA ACOMPANHAMENTO DO CONJUGE\",\n",
        "    \"LICENCA MEDICA\",\n",
        "    \"LICENCA PARA ACOMPANHAR PESSOA DA FAMILIA\",\n",
        "    \"LICENCA PARA EXERCICIO DE MANDATO ELETIVO\",\n",
        "    \"LICENCA PARA TRATO DE INTERESSE PARTICULAR\",\n",
        "    \"LICENCA PATERNIDADE\",\n",
        "    \"MAJORACAO DE LICENCA-PREMIO\",\n",
        "    \"OUTROS\",\n",
        "    \"PORTARIA CONCESSAO DE LICENCA-PREMIO\",\n",
        "    \"PORTARIA CONCESSAO DE LICENCA MEDICA\",\n",
        "    \"PORTARIA CUMPRIMENTO\",\n",
        "    \"PORTARIA DESIGNACAO\",\n",
        "    \"PORTARIA DISPENSA\",\n",
        "    \"PORTARIA LOTAR\",\n",
        "    \"PORTARIA REMOCAO\",\n",
        "    \"PORTARIA OUTRAS\",\n",
        "    \"PROGRESSAO POR TITULACAO\",\n",
        "    \"INCORPORACAO DE FUNCAO\",\n",
        "]"
      ],
      "execution_count": 221,
      "outputs": []
    },
    {
      "cell_type": "code",
      "metadata": {
        "colab": {
          "base_uri": "https://localhost:8080/"
        },
        "id": "pceTh5uaclfz",
        "outputId": "5c3b6eed-d96f-47cc-ae2b-a8f9095bb646"
      },
      "source": [
        "for typ in TYPES:\n",
        "  print(list_docs_types.count(typ), '|', typ)"
      ],
      "execution_count": 222,
      "outputs": [
        {
          "output_type": "stream",
          "text": [
            "0 | ABONO DE FALTAS\n",
            "2 | ABONO DE PERMANENCIA\n",
            "0 | AFASTAMENTO DO CARGO\n",
            "0 | AFASTAMENTO PARA CONCORRER AO PLEITO ELEITORAL\n",
            "0 | AFASTAMENTO PARA MANDATO SINDICAL\n",
            "0 | AFASTAMENTO SEM JUSTIFICATIVA\n",
            "0 | APOSENTADORIA\n",
            "0 | APOSENTADORIA POR INVALIDEZ\n",
            "2 | AVERBACAO DE TEMPO DE SERVICO\n",
            "0 | CONCESSAO DE FINATE\n",
            "2 | CONCESSAO DE LICENCA-PREMIO\n",
            "0 | DIARIAS\n",
            "8 | FERIAS\n",
            "2 | GOZO DE LICENCA-PREMIO\n",
            "0 | INDENIZACAO DE LICENCA-PREMIO\n",
            "0 | INDENIZACAO DE FERIAS E 13º SALARIO\n",
            "0 | INDENIZACAO OUTRAS\n",
            "0 | LICENCA ADOCAO\n",
            "0 | LICENCA PARA ACOMPANHAMENTO DO CONJUGE\n",
            "4 | LICENCA MEDICA\n",
            "0 | LICENCA PARA ACOMPANHAR PESSOA DA FAMILIA\n",
            "0 | LICENCA PARA EXERCICIO DE MANDATO ELETIVO\n",
            "0 | LICENCA PARA TRATO DE INTERESSE PARTICULAR\n",
            "0 | LICENCA PATERNIDADE\n",
            "0 | MAJORACAO DE LICENCA-PREMIO\n",
            "4 | OUTROS\n",
            "2 | PORTARIA CONCESSAO DE LICENCA-PREMIO\n",
            "0 | PORTARIA CONCESSAO DE LICENCA MEDICA\n",
            "2 | PORTARIA CUMPRIMENTO\n",
            "0 | PORTARIA DESIGNACAO\n",
            "0 | PORTARIA DISPENSA\n",
            "0 | PORTARIA LOTAR\n",
            "0 | PORTARIA REMOCAO\n",
            "0 | PORTARIA OUTRAS\n",
            "0 | PROGRESSAO POR TITULACAO\n",
            "0 | INCORPORACAO DE FUNCAO\n"
          ],
          "name": "stdout"
        }
      ]
    }
  ]
}